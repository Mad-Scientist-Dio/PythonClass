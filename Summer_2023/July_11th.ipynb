{
 "cells": [
  {
   "cell_type": "code",
   "execution_count": 11,
   "id": "ed8f1ac0",
   "metadata": {},
   "outputs": [],
   "source": [
    "import math\n",
    "import timeit"
   ]
  },
  {
   "cell_type": "code",
   "execution_count": 8,
   "id": "c6634a07",
   "metadata": {},
   "outputs": [
    {
     "name": "stdout",
     "output_type": "stream",
     "text": [
      "False\n"
     ]
    }
   ],
   "source": [
    "# Comparison \n",
    "# ==, != Equal operator, Not Equal Operator\n",
    "# >, >= Bigger and bigger or equal operator\n",
    "# <, <= Bigger and bigger or equal operator\n",
    "# %, // reisdue and integer division\n",
    "\n",
    "# Decimal representation\n",
    "num = 288493247230\n",
    "\n",
    "array = [1,5,3]\n",
    "\n",
    "if (num >= 2): #  num == 4 is a question -> True, False\n",
    "    print(\"True\")\n",
    "else:\n",
    "    print(\"False\")"
   ]
  },
  {
   "cell_type": "code",
   "execution_count": null,
   "id": "1922ed15",
   "metadata": {},
   "outputs": [],
   "source": [
    "# Binary numbers\n",
    "\n",
    "0, 1, 2, 3, 4, 5, 6, 7, 8, 9, 10, 11, ..., 20, ..., 99, 100, \n",
    "\n",
    "0, 1, 10, 11, 100, 101, 110, 111, 1000, 1001, 1010,...\n",
    "0, 1,  2,  3,   4,   5,   6,   7,    8,    9,   10,..."
   ]
  },
  {
   "cell_type": "code",
   "execution_count": null,
   "id": "624f533a",
   "metadata": {},
   "outputs": [],
   "source": [
    "137 = 2^7 + 9 = 2^7 + 2^3 + 1 = 2^7 + 2^3 + 2^0 = 100001001\n",
    "\n",
    "6 = 2^2 + 2^1 = 110\n",
    "\n",
    "23 = 2^4 + 2^2 + 2^1 + 2^0 = 10111"
   ]
  },
  {
   "cell_type": "code",
   "execution_count": 14,
   "id": "c5a33938",
   "metadata": {},
   "outputs": [
    {
     "name": "stdout",
     "output_type": "stream",
     "text": [
      "18.1 µs ± 1.28 µs per loop (mean ± std. dev. of 7 runs, 100,000 loops each)\n"
     ]
    }
   ],
   "source": [
    "%%timeit\n",
    "num = 137    # 2^7 + 2^3 + 2^0 = 100001001\n",
    "\n",
    "# This algorithm is slow \n",
    "temp = num\n",
    "while temp > 0:\n",
    "    for i in range(10):\n",
    "        if ( 2**i <= temp and 2**(i+1) > temp ):\n",
    "            #print(i)\n",
    "            temp = temp - 2**i\n",
    "            break # this prevents us from checking unecessary stuff\n",
    "    \n",
    "'''     \n",
    "temp = 137\n",
    "while 137>0:\n",
    "    i=0:\n",
    "        if (1<=137<2)\n",
    "    i=1:\n",
    "        if (2<=137<4)\n",
    "    i=2:\n",
    "        if (4<=137<8)\n",
    "    i=3:\n",
    "        if (8<=137<16)\n",
    "    i=4:\n",
    "        if (16<=137<32)\n",
    "    i=5:\n",
    "        if (32<=137<64)\n",
    "    i=6:\n",
    "        if (64<=137<128)\n",
    "    i=7:\n",
    "        if (128<=137<256):\n",
    "            print(7)\n",
    "            temp = 137 - 2**7 = 9\n",
    "    i=8:\n",
    "        if (256<=9<512)\n",
    "    i=9:\n",
    "        if (512<=9<1024)\n",
    "    i=10:\n",
    "        if (1024<=9<2048)\n",
    "while 9>0:\n",
    "    i=0:\n",
    "        if (1<=9<2)\n",
    "    i=1:\n",
    "        if (2<=9<4)\n",
    "    i=2:\n",
    "        if (4<=9<8)\n",
    "    i=3:\n",
    "        if (8<=9<16):\n",
    "            print(3)\n",
    "            temp = 9 - 2**3 = 1\n",
    "    i=4:\n",
    "        if (16<=1<32)\n",
    "    i=5:\n",
    "        if (32<=1<64)\n",
    "    i=6:\n",
    "        if (64<=1<128)\n",
    "    i=7:\n",
    "        if (128<=1<256)\n",
    "    i=8:\n",
    "        if (256<=1<512)\n",
    "    i=9:\n",
    "        if (512<=1<1024)\n",
    "    i=10:\n",
    "        if (1024<=1<2048)\n",
    "\n",
    "while 1>0:\n",
    "    i=0:\n",
    "        if (1<=1<2):\n",
    "            print(0)\n",
    "            temp = 1 - 1 = 0\n",
    "    i=1:\n",
    "        if (2<=0<4)\n",
    "    i=2:\n",
    "        if (4<=0<8)\n",
    "    i=3:\n",
    "        if (8<=0<16)\n",
    "    i=4:\n",
    "        if (16<=0<32)\n",
    "    i=5:\n",
    "        if (32<=0<64)\n",
    "    i=6:\n",
    "        if (64<=0<128)\n",
    "    i=7:\n",
    "        if (128<=0<256)\n",
    "    i=8:\n",
    "        if (256<=0<512)\n",
    "    i=9:\n",
    "        if (512<=0<1024)\n",
    "    i=10:\n",
    "        if (1024<=0<2048)\n",
    "'''\n",
    "    \n",
    "\n",
    "\n",
    "\n",
    "\n",
    "\n"
   ]
  },
  {
   "cell_type": "code",
   "execution_count": 17,
   "id": "b578b1ff",
   "metadata": {},
   "outputs": [
    {
     "name": "stdout",
     "output_type": "stream",
     "text": [
      "1\n",
      "0\n",
      "0\n",
      "1\n",
      "0\n",
      "0\n",
      "0\n",
      "1\n"
     ]
    }
   ],
   "source": [
    "num = 137    # 2^7 + 2^3 + 2^0 = 100001001\n",
    "\n",
    "#Num = ( 2**33 + 2**14 + 2**11 + 2**5 + 2**3 + 2**1 + 2**0) = 10000000000000000100100000101011\n",
    "#Num%2 = 1 \n",
    "\n",
    "# This algorithm is slow \n",
    "temp = num\n",
    "while temp > 0:\n",
    "    print(temp%2)\n",
    "    temp = temp - temp%2\n",
    "    temp = int(temp /2)"
   ]
  },
  {
   "cell_type": "code",
   "execution_count": 20,
   "id": "e4ac8fb6",
   "metadata": {},
   "outputs": [
    {
     "name": "stdout",
     "output_type": "stream",
     "text": [
      "11\n",
      "10\n",
      "9\n",
      "8\n",
      "7\n"
     ]
    }
   ],
   "source": [
    "''' While loops are loops without a fixed endpoint '''\n",
    "\n",
    "num = 12\n",
    "while num > 7:\n",
    "    num = num - 1\n",
    "    print(num)"
   ]
  },
  {
   "cell_type": "code",
   "execution_count": 23,
   "id": "338bd414",
   "metadata": {},
   "outputs": [
    {
     "name": "stdout",
     "output_type": "stream",
     "text": [
      "49.5\n",
      "24.75\n",
      "12.375\n",
      "6.1875\n",
      "3.09375\n",
      "1.546875\n",
      "0.7734375\n",
      "0.38671875\n",
      "0.193359375\n",
      "0.0966796875\n",
      "0.04833984375\n",
      "0.024169921875\n",
      "0.0120849609375\n",
      "0.00604248046875\n",
      "0.003021240234375\n",
      "0.0015106201171875\n",
      "0.00075531005859375\n",
      "0.000377655029296875\n",
      "0.0001888275146484375\n",
      "9.441375732421875e-05\n",
      "4.7206878662109375e-05\n",
      "2.3603439331054688e-05\n",
      "1.1801719665527344e-05\n",
      "5.900859832763672e-06\n"
     ]
    }
   ],
   "source": [
    "\n",
    "num = 99\n",
    "\n",
    "while True:\n",
    "    num /= 2 # num = num / 2\n",
    "    print(num)\n",
    "    if num < 0.00001:\n",
    "        break\n"
   ]
  },
  {
   "cell_type": "code",
   "execution_count": null,
   "id": "9da27702",
   "metadata": {},
   "outputs": [],
   "source": []
  }
 ],
 "metadata": {
  "kernelspec": {
   "display_name": "Python 3 (ipykernel)",
   "language": "python",
   "name": "python3"
  },
  "language_info": {
   "codemirror_mode": {
    "name": "ipython",
    "version": 3
   },
   "file_extension": ".py",
   "mimetype": "text/x-python",
   "name": "python",
   "nbconvert_exporter": "python",
   "pygments_lexer": "ipython3",
   "version": "3.9.12"
  }
 },
 "nbformat": 4,
 "nbformat_minor": 5
}
