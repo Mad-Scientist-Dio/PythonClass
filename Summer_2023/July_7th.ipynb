{
 "cells": [
  {
   "cell_type": "code",
   "execution_count": 34,
   "id": "58e94039",
   "metadata": {},
   "outputs": [],
   "source": [
    "import matplotlib.pyplot as plt \n",
    "import random    # Import a module = library of functions\n",
    "import numpy as np\n",
    "import scipy.optimize as so"
   ]
  },
  {
   "cell_type": "code",
   "execution_count": 33,
   "id": "f4b24aac",
   "metadata": {},
   "outputs": [
    {
     "data": {
      "image/png": "[encoded data removed]",
      "text/plain": [
       "<Figure size 432x288 with 1 Axes>"
      ]
     },
     "metadata": {
      "needs_background": "light"
     },
     "output_type": "display_data"
    }
   ],
   "source": [
    "\n",
    "m = -2\n",
    "b = -2\n",
    "\n",
    "''' \n",
    "    random is the module that you imported above \n",
    "    random.random() is a function inside this module \n",
    "    it returns a random number between 0 and 1\n",
    " \n",
    " \n",
    " '''\n",
    "\n",
    "\n",
    "x = [ i for i in range(12) ]  # Creating an x-axis\n",
    "y = [ m*xs+b + 3*(2*random.random()-1) for xs in x  ]\n",
    "\n",
    "\n",
    "line_x = [ i for i in range(12) ]  # Creating an x-axis\n",
    "line_y = [ m*xs+b  for xs in line_x  ]\n",
    "\n",
    "plt.scatter(x,y)\n",
    "plt.plot(line_x,line_y)\n",
    "plt.show()"
   ]
  },
  {
   "cell_type": "code",
   "execution_count": 51,
   "id": "9c8bba79",
   "metadata": {},
   "outputs": [],
   "source": [
    "''' Chi Squared Minimization '''\n",
    "\n",
    "''' Define variables, use a guess '''\n",
    "m0 = -4\n",
    "b0 = -2\n",
    "\n",
    "''' Define Objective '''\n",
    "def ChiSquared(arguments):\n",
    "    \n",
    "    ''' \n",
    "        data_x are the x locations \n",
    "        data_y are the y locations\n",
    "        \n",
    "        model is a function that given x returns y\n",
    "    \n",
    "    '''\n",
    "    \n",
    "    diff = np.array([ y[i] - Model(x[i],arguments[0],arguments[1]) for i in range(len(x)) ])\n",
    "    \n",
    "    ''' Sum of squares of the array diff and then is taking the square root '''\n",
    "    return np.linalg.norm(diff)\n",
    "    \n",
    "def Model(x,m,b):\n",
    "    return m*x+b\n",
    "\n",
    "solution = so.minimize(ChiSquared,(m0,b0))"
   ]
  },
  {
   "cell_type": "code",
   "execution_count": 57,
   "id": "646989ca",
   "metadata": {},
   "outputs": [
    {
     "data": {
      "image/png": "[encoded data removed]",
      "text/plain": [
       "<Figure size 432x288 with 1 Axes>"
      ]
     },
     "metadata": {
      "needs_background": "light"
     },
     "output_type": "display_data"
    }
   ],
   "source": [
    "solution['x']\n",
    "\n",
    "best_line_x = [ i for i in range(12) ]  # Creating an x-axis\n",
    "best_line_y = [ solution['x'][0]*xs+solution['x'][1]  for xs in line_x  ]\n",
    "\n",
    "line_x = [ i for i in range(12) ]  # Creating an x-axis\n",
    "line_y = [ m*xs+b  for xs in line_x  ]\n",
    "\n",
    "\n",
    "plt.scatter(x,y)\n",
    "plt.plot(line_x,line_y,label=\"Original Model\")\n",
    "plt.plot(best_line_x,best_line_y,label=\"Best Fit\")\n",
    "plt.legend()\n",
    "plt.show()"
   ]
  },
  {
   "cell_type": "code",
   "execution_count": null,
   "id": "05414975",
   "metadata": {},
   "outputs": [],
   "source": [
    "# Plot the function 3x^3-5x+x^2"
   ]
  },
  {
   "cell_type": "code",
   "execution_count": null,
   "id": "8add2229",
   "metadata": {},
   "outputs": [],
   "source": [
    "# Plot the function y = 3+1/x for x between 2,7"
   ]
  },
  {
   "cell_type": "code",
   "execution_count": null,
   "id": "571901da",
   "metadata": {},
   "outputs": [],
   "source": [
    "''' \n",
    "    Problems: \n",
    "    \n",
    "    1. Make a function that takes an array and returns an array with all elements squared\n",
    "    \n",
    "    2. Plot the function sin(10*x) from -2 to 2 (python has built in versions of sin,cos,exp,log inside of math)\n",
    "    \n",
    "    3. Define a function that takes an array and a function and returns \n",
    "       an array with all the aplications of the fucntion to the array. For example:\n",
    "       \n",
    "       def your_new_function([1,2,3,4,5],exp) returns [ exp(1), exp(2), exp(3), exp(4), exp(5) ] \n",
    "    \n",
    "    4. Define a function that takes an array of numbers and returns the largest element from the array\n",
    "\n",
    "'''"
   ]
  }
 ],
 "metadata": {
  "kernelspec": {
   "display_name": "Python 3 (ipykernel)",
   "language": "python",
   "name": "python3"
  },
  "language_info": {
   "codemirror_mode": {
    "name": "ipython",
    "version": 3
   },
   "file_extension": ".py",
   "mimetype": "text/x-python",
   "name": "python",
   "nbconvert_exporter": "python",
   "pygments_lexer": "ipython3",
   "version": "3.9.12"
  }
 },
 "nbformat": 4,
 "nbformat_minor": 5
}
