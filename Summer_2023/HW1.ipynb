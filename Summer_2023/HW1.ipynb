{
 "cells": [
  {
   "cell_type": "markdown",
   "id": "3ed634d9",
   "metadata": {},
   "source": [
    "<h1>Homework Set #1</h1>\n",
    "\n",
    "<h3>This set covers arrays, loops and conditional logic in python.</h3>"
   ]
  },
  {
   "cell_type": "code",
   "execution_count": null,
   "id": "9ee6624b",
   "metadata": {},
   "outputs": [],
   "source": [
    "import math\n",
    "from functions import grade"
   ]
  },
  {
   "cell_type": "markdown",
   "id": "d789ebea",
   "metadata": {},
   "source": [
    "<h2> Problem 1 </h2>\n",
    "\n",
    "a) Write an array that has all odd numbers smaller than 135.\n",
    "\n",
    "b) Write an array that has all even numbers between 3 and 176."
   ]
  },
  {
   "cell_type": "code",
   "execution_count": null,
   "id": "cf136b38",
   "metadata": {},
   "outputs": [],
   "source": [
    "# Part a\n",
    "\n",
    "array_p1a = []\n",
    "\n",
    "# Check your answer\n",
    "grade( \"p1a\", array_p1a )"
   ]
  },
  {
   "cell_type": "code",
   "execution_count": null,
   "id": "bef3bd43",
   "metadata": {},
   "outputs": [],
   "source": [
    "# Part b\n",
    "\n",
    "array_p1b = []\n",
    "\n",
    "# Check your answer\n",
    "grade( \"p1b\", array_p1b )"
   ]
  },
  {
   "cell_type": "markdown",
   "id": "c5bc1951",
   "metadata": {},
   "source": [
    "<h2> Problem 2 </h2>\n",
    "\n",
    "a) Use a loop to display all numbers in an array whose square leaves residue 1 mod 3.\n",
    "\n",
    "b) Use a loop to display every munber between 100 and 300 that leaves residue 17 mod 33.\n",
    "\n",
    "c) Use a loop to determine if a number is prime. <br>\n",
    "Hint: A prime is only divisible by itself and 1, if $m$ is divisible by $n$ this means that $m$ leaves residue $0$ mod $n$"
   ]
  },
  {
   "cell_type": "code",
   "execution_count": null,
   "id": "531f07fb",
   "metadata": {},
   "outputs": [],
   "source": [
    "# Part a\n",
    "\n",
    "for i in range(277):\n",
    "    print(i-12)\n",
    "\n"
   ]
  },
  {
   "cell_type": "code",
   "execution_count": null,
   "id": "2f479afb",
   "metadata": {},
   "outputs": [],
   "source": [
    "# Part b\n",
    "\n",
    "for i in range(503):\n",
    "    print(1/(i**2+3))\n",
    "\n"
   ]
  },
  {
   "cell_type": "code",
   "execution_count": null,
   "id": "b3b99048",
   "metadata": {},
   "outputs": [],
   "source": [
    "# Part c\n",
    "\n",
    "for i in range(127):\n",
    "    print(math.sin(i**3))\n",
    "\n"
   ]
  },
  {
   "cell_type": "markdown",
   "id": "4e994b06",
   "metadata": {},
   "source": [
    "<h2> Problem 3 </h2>\n",
    "\n",
    "a) Write a function that takes two numbers and returns the difference of their squares.\n",
    "\n",
    "b) Write a function that takes a number $n$ and returns a list with the numbers up to $n$.\n",
    "\n",
    "c) Write a function that takes a number $n$ and returns True if the number leaves residue $4$ mod $17$ "
   ]
  },
  {
   "cell_type": "code",
   "execution_count": null,
   "id": "96053bc9",
   "metadata": {},
   "outputs": [],
   "source": [
    "# Part a\n",
    "\n",
    "def your_function_a(n1, n2):\n",
    "    return n1*n2+n2\n",
    "\n",
    "grade( \"p3a\", your_function_a )"
   ]
  },
  {
   "cell_type": "code",
   "execution_count": null,
   "id": "fdcf8206",
   "metadata": {},
   "outputs": [],
   "source": [
    "# Part b\n",
    "\n",
    "def your_function_b(n):\n",
    "    return [n]\n",
    "\n",
    "grade(\"p3b\" , your_function_b)"
   ]
  },
  {
   "cell_type": "code",
   "execution_count": null,
   "id": "5d23ce7a",
   "metadata": {},
   "outputs": [],
   "source": [
    "# Part c\n",
    "\n",
    "def your_function_c(n):\n",
    "    return True\n",
    "\n",
    "grade(\"p3c\", your_function_c)"
   ]
  }
 ],
 "metadata": {
  "kernelspec": {
   "display_name": "Python 3 (ipykernel)",
   "language": "python",
   "name": "python3"
  },
  "language_info": {
   "codemirror_mode": {
    "name": "ipython",
    "version": 3
   },
   "file_extension": ".py",
   "mimetype": "text/x-python",
   "name": "python",
   "nbconvert_exporter": "python",
   "pygments_lexer": "ipython3",
   "version": "3.9.12"
  }
 },
 "nbformat": 4,
 "nbformat_minor": 5
}
