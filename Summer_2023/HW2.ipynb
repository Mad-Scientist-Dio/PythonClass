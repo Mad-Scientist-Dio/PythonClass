{
 "cells": [
  {
   "cell_type": "markdown",
   "id": "1a944204",
   "metadata": {},
   "source": [
    "<h1> Homework #2 </h1>\n",
    "\n",
    "<h3> This set covers functions, while loops and more conditional logic </h3>"
   ]
  },
  {
   "cell_type": "code",
   "execution_count": 14,
   "id": "f3f58bb7",
   "metadata": {},
   "outputs": [],
   "source": [
    "import math\n",
    "from random import random\n",
    "from functions import grade2"
   ]
  },
  {
   "cell_type": "markdown",
   "id": "85cdc4e8",
   "metadata": {},
   "source": [
    "<h2> Problem 1 </h2>\n",
    "\n",
    "a) Define a function that takes an array and returns a new array with only the even numbers of the array (in the same order).\n",
    "\n",
    "b) Define a function that takes a number and returns an array with all the numbers that divide the number.\n",
    "\n",
    "c) Define a function that takes three numbers and returns the smallest of the three numbers."
   ]
  },
  {
   "cell_type": "code",
   "execution_count": 2,
   "id": "948181aa",
   "metadata": {},
   "outputs": [
    {
     "name": "stdout",
     "output_type": "stream",
     "text": [
      "3 / 50 tests passed\n",
      "Incorrect!\n"
     ]
    }
   ],
   "source": [
    "''' Part A '''\n",
    "def my_fun_p1a(arr):\n",
    "    return arr\n",
    "\n",
    "''' Check your answer '''\n",
    "grade2( \"hw2_p1a\", my_fun_p1a )"
   ]
  },
  {
   "cell_type": "code",
   "execution_count": 3,
   "id": "0cb8cebf",
   "metadata": {},
   "outputs": [
    {
     "name": "stdout",
     "output_type": "stream",
     "text": [
      "2 / 50 tests passed\n",
      "Incorrect!\n"
     ]
    }
   ],
   "source": [
    "''' Part B '''\n",
    "def my_fun_p1b(num):\n",
    "    return [1,num]\n",
    "\n",
    "''' Check your answer '''\n",
    "grade2( \"hw2_p1b\", my_fun_p1b)"
   ]
  },
  {
   "cell_type": "code",
   "execution_count": 4,
   "id": "f00876a2",
   "metadata": {},
   "outputs": [
    {
     "name": "stdout",
     "output_type": "stream",
     "text": [
      "22 / 50 tests passed\n",
      "Incorrect!\n"
     ]
    }
   ],
   "source": [
    "''' Part C '''\n",
    "def my_fun_p1c(num1,num2,num3):\n",
    "    return num1\n",
    "\n",
    "''' Check your answer '''\n",
    "grade2( \"hw2_p1c\", my_fun_p1c )"
   ]
  },
  {
   "cell_type": "markdown",
   "id": "914b2e25",
   "metadata": {},
   "source": [
    "<h2> Problem 2</h2>\n",
    "\n",
    "Correct the logic, with only 1 or two changes you should be able to to make the following functions behave as desired\n"
   ]
  },
  {
   "cell_type": "markdown",
   "id": "cf185ed0",
   "metadata": {},
   "source": [
    "a) This function is supossed to take two numbers, and return the difference between the largest and the smallest.\n",
    "\n",
    "b) This function is supossed to take an array and return the number of odd numbers in the array.\n",
    "\n",
    "c) This function is supossed to take a number and find the largest power of three that divides said number."
   ]
  },
  {
   "cell_type": "code",
   "execution_count": 5,
   "id": "08b22265",
   "metadata": {},
   "outputs": [
    {
     "name": "stdout",
     "output_type": "stream",
     "text": [
      "30 / 50 tests passed\n",
      "Incorrect!\n"
     ]
    }
   ],
   "source": [
    "''' Part A '''\n",
    "def my_fun_p2a(num1,num2,num3):\n",
    "    if num1 >= num3 and num2 >= num3:\n",
    "        return num1 - num3\n",
    "    \n",
    "    if num1 >= num2 and num2 >= num1:\n",
    "        return num3 - num1\n",
    "    \n",
    "    if num2 >= num1 and num1 >= num3:\n",
    "        return num2 - num3\n",
    "    \n",
    "    if num2 >= num3 and num3 >= num1:\n",
    "        return num2 - num1\n",
    "    \n",
    "    if num1 >= num3 and num3 >= num2:\n",
    "        return num1 - num2 \n",
    "    \n",
    "    if num3 >= num1 and num1 >= num2:\n",
    "        return num3 - num2\n",
    "    \n",
    "''' Check your answer '''\n",
    "grade2( \"hw2_p2a\", my_fun_p2a )"
   ]
  },
  {
   "cell_type": "code",
   "execution_count": 6,
   "id": "d057c859",
   "metadata": {},
   "outputs": [
    {
     "name": "stdout",
     "output_type": "stream",
     "text": [
      "9 / 50 tests passed\n",
      "Incorrect!\n"
     ]
    }
   ],
   "source": [
    "''' Part B '''\n",
    "def my_fun_p2b(arr):\n",
    "    \n",
    "    counter = 1\n",
    "    for num in arr:\n",
    "        if num%2==1:\n",
    "            return counter\n",
    "    \n",
    "''' Check your answer '''\n",
    "grade2( \"hw2_p2b\", my_fun_p2b )"
   ]
  },
  {
   "cell_type": "code",
   "execution_count": 21,
   "id": "71fa15af",
   "metadata": {},
   "outputs": [
    {
     "name": "stdout",
     "output_type": "stream",
     "text": [
      "19 / 50 tests passed\n",
      "Incorrect!\n"
     ]
    }
   ],
   "source": [
    "''' Part C '''\n",
    "def my_fun_p2c(num):\n",
    "    power = 1\n",
    "    last  = 0\n",
    "    while True:\n",
    "        if 3**power > num:\n",
    "            break\n",
    "        if num%3**power == 1:\n",
    "            last = power\n",
    "        power+=1\n",
    "    return last\n",
    "    \n",
    "''' Check your answer '''\n",
    "grade2( \"hw2_p2c\", my_fun_p2c )"
   ]
  }
 ],
 "metadata": {
  "kernelspec": {
   "display_name": "Python 3 (ipykernel)",
   "language": "python",
   "name": "python3"
  },
  "language_info": {
   "codemirror_mode": {
    "name": "ipython",
    "version": 3
   },
   "file_extension": ".py",
   "mimetype": "text/x-python",
   "name": "python",
   "nbconvert_exporter": "python",
   "pygments_lexer": "ipython3",
   "version": "3.9.12"
  }
 },
 "nbformat": 4,
 "nbformat_minor": 5
}
