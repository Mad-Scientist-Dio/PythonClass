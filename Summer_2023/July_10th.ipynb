{
 "cells": [
  {
   "cell_type": "code",
   "execution_count": 22,
   "id": "103b502e",
   "metadata": {},
   "outputs": [],
   "source": [
    "import matplotlib.pyplot as plt\n",
    "import random\n",
    "\n",
    "\n",
    "def square(array):\n",
    "    ''' Loop over the elements of an array '''\n",
    "    for elem in array:\n",
    "        # All instructions that are going to be repeated for every element of array\n",
    "        \n",
    "        #instruction to print only if they are even\n",
    "        if elem >= 44: # if the element is exactly 44\n",
    "            print(elem)\n",
    "        \n",
    "        \n",
    "# = defines the left-hand side as the result of the right-hand side\n",
    "# == compares the left and right sides and returns True if the sides are equal or False if they are not\n",
    "# Comparisons: ==, >, <, >=, <= \n",
    "\n",
    "# Operators: +, *, /, -, // (integer division), % (reminder of division)"
   ]
  },
  {
   "cell_type": "code",
   "execution_count": 33,
   "id": "549702af",
   "metadata": {},
   "outputs": [],
   "source": [
    "array1 = [ i  for i in range(100) ] "
   ]
  },
  {
   "cell_type": "code",
   "execution_count": 32,
   "id": "4b34f9ad",
   "metadata": {},
   "outputs": [
    {
     "name": "stdout",
     "output_type": "stream",
     "text": [
      "17 4\n"
     ]
    }
   ],
   "source": [
    "''' Write a function that takes an array and prints all numbers in it and does not return anything '''\n",
    "\n",
    "\n",
    "a = 123\n",
    "b = 7\n",
    "print(a // b,a % b)"
   ]
  },
  {
   "cell_type": "code",
   "execution_count": 47,
   "id": "ba026971",
   "metadata": {},
   "outputs": [
    {
     "name": "stdout",
     "output_type": "stream",
     "text": [
      "Not prime, divisible by 5\n",
      "Not prime, divisible by 31\n"
     ]
    }
   ],
   "source": [
    "# Prime: is divisible only by 1 and itself\n",
    "# Prime: is not divisible by any number between 2 and itself-1\n",
    "\n",
    "num = 155\n",
    "for i in range(2,num):\n",
    "    if num % i == 0:\n",
    "        print(\"Not prime, divisible by\",i)"
   ]
  },
  {
   "cell_type": "code",
   "execution_count": null,
   "id": "abe5dd08",
   "metadata": {},
   "outputs": [],
   "source": [
    "# Print if the square has residue 1 mod 3"
   ]
  },
  {
   "cell_type": "code",
   "execution_count": null,
   "id": "86d2d583",
   "metadata": {},
   "outputs": [],
   "source": [
    "# num % 3 the residue of dividing num by 3 \n",
    "# num //3 the quotient of dividing num by 3"
   ]
  },
  {
   "cell_type": "code",
   "execution_count": 51,
   "id": "84b16f17",
   "metadata": {},
   "outputs": [],
   "source": [
    "array = [ int(100*random.random()) for i in range(100) ]"
   ]
  },
  {
   "cell_type": "code",
   "execution_count": 57,
   "id": "5d774732",
   "metadata": {},
   "outputs": [],
   "source": [
    "# even: their residue mod 2 is 0\n",
    "# odd: their residue mod 2 is 1"
   ]
  },
  {
   "cell_type": "code",
   "execution_count": 61,
   "id": "7e7768bc",
   "metadata": {},
   "outputs": [],
   "source": [
    "array\n",
    "array_evens = []\n",
    "array_odds  = []\n",
    "for elem in array:\n",
    "    ''' Add it if it is even '''\n",
    "    if elem % 2 == 0:\n",
    "        array_evens.append(elem)\n",
    "    else:\n",
    "        array_odds.append(elem)"
   ]
  },
  {
   "cell_type": "code",
   "execution_count": 63,
   "id": "34d48617",
   "metadata": {},
   "outputs": [
    {
     "name": "stdout",
     "output_type": "stream",
     "text": [
      "Evens [88, 90, 6, 54, 60, 46, 62, 56, 78, 80, 16, 4, 88, 2, 14, 44, 28, 48, 14, 76, 26, 80, 82, 8, 90, 48, 44, 24, 86, 66, 40, 88, 26, 98, 62, 60, 10, 8, 24, 24, 42, 4, 18]\n",
      "Odds [79, 13, 75, 31, 21, 45, 53, 79, 59, 49, 77, 45, 85, 1, 81, 45, 29, 73, 55, 1, 33, 81, 53, 27, 93, 47, 1, 31, 85, 95, 49, 35, 23, 77, 49, 87, 41, 75, 43, 57, 43, 85, 39, 21, 1, 57, 3, 67, 69, 5, 57, 21, 67, 47, 43, 27, 95]\n"
     ]
    }
   ],
   "source": [
    "print(\"Evens\",array_evens)\n",
    "print(\"Odds\",array_odds)"
   ]
  },
  {
   "cell_type": "code",
   "execution_count": null,
   "id": "fd427024",
   "metadata": {},
   "outputs": [],
   "source": []
  }
 ],
 "metadata": {
  "kernelspec": {
   "display_name": "Python 3 (ipykernel)",
   "language": "python",
   "name": "python3"
  },
  "language_info": {
   "codemirror_mode": {
    "name": "ipython",
    "version": 3
   },
   "file_extension": ".py",
   "mimetype": "text/x-python",
   "name": "python",
   "nbconvert_exporter": "python",
   "pygments_lexer": "ipython3",
   "version": "3.9.12"
  }
 },
 "nbformat": 4,
 "nbformat_minor": 5
}
