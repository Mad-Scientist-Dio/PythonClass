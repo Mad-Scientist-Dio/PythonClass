{
 "cells": [
  {
   "cell_type": "code",
   "execution_count": 7,
   "id": "246c7dc7",
   "metadata": {},
   "outputs": [],
   "source": [
    "''' String type '''\n",
    "\n",
    "\n",
    "a = \"Hello\"\n",
    "s = \" \"\n",
    "b = \"Bye\""
   ]
  },
  {
   "cell_type": "code",
   "execution_count": 8,
   "id": "8b18076a",
   "metadata": {},
   "outputs": [
    {
     "name": "stdout",
     "output_type": "stream",
     "text": [
      "Hello Bye Hello Bye\n"
     ]
    }
   ],
   "source": [
    "print(a+s+b+s+a+s+b)"
   ]
  },
  {
   "cell_type": "code",
   "execution_count": 9,
   "id": "230f9d02",
   "metadata": {},
   "outputs": [],
   "source": [
    "array = [ a,a,a+a,s+b ]"
   ]
  },
  {
   "cell_type": "code",
   "execution_count": 21,
   "id": "c8bb581d",
   "metadata": {},
   "outputs": [
    {
     "name": "stdout",
     "output_type": "stream",
     "text": [
      "['Hello', 'Hello', 'HelloHello', ' Bye']\n"
     ]
    }
   ],
   "source": [
    "print(array)"
   ]
  },
  {
   "cell_type": "code",
   "execution_count": 11,
   "id": "6ada6a04",
   "metadata": {},
   "outputs": [
    {
     "data": {
      "text/plain": [
       "True"
      ]
     },
     "execution_count": 11,
     "metadata": {},
     "output_type": "execute_result"
    }
   ],
   "source": [
    "f = 'd'\n",
    "g = \"d\"\n",
    "f==g"
   ]
  },
  {
   "cell_type": "code",
   "execution_count": 17,
   "id": "a5121860",
   "metadata": {},
   "outputs": [],
   "source": [
    "Sentence = \"HeLLO WROLD\""
   ]
  },
  {
   "cell_type": "code",
   "execution_count": 20,
   "id": "b59742a8",
   "metadata": {},
   "outputs": [
    {
     "name": "stdout",
     "output_type": "stream",
     "text": [
      "LLO W\n"
     ]
    }
   ],
   "source": [
    "print(Sentence[2:7])"
   ]
  },
  {
   "cell_type": "code",
   "execution_count": 22,
   "id": "47f6cb95",
   "metadata": {},
   "outputs": [
    {
     "name": "stdout",
     "output_type": "stream",
     "text": [
      "['Hello', 'HelloHello', ' Bye']\n"
     ]
    }
   ],
   "source": [
    "print(array[1:])"
   ]
  },
  {
   "cell_type": "code",
   "execution_count": null,
   "id": "4b4a1f09",
   "metadata": {},
   "outputs": [],
   "source": []
  }
 ],
 "metadata": {
  "kernelspec": {
   "display_name": "Python 3 (ipykernel)",
   "language": "python",
   "name": "python3"
  },
  "language_info": {
   "codemirror_mode": {
    "name": "ipython",
    "version": 3
   },
   "file_extension": ".py",
   "mimetype": "text/x-python",
   "name": "python",
   "nbconvert_exporter": "python",
   "pygments_lexer": "ipython3",
   "version": "3.9.12"
  }
 },
 "nbformat": 4,
 "nbformat_minor": 5
}
