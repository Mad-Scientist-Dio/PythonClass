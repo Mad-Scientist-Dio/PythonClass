{
 "cells": [
  {
   "cell_type": "code",
   "execution_count": 18,
   "id": "0e2cb355",
   "metadata": {},
   "outputs": [],
   "source": [
    "array = [ -i+33 for i in range(10) ]"
   ]
  },
  {
   "cell_type": "code",
   "execution_count": 19,
   "id": "1916bf43",
   "metadata": {},
   "outputs": [
    {
     "name": "stdout",
     "output_type": "stream",
     "text": [
      "[33, 32, 31, 30, 29, 28, 27, 26, 25, 24]\n"
     ]
    }
   ],
   "source": [
    "print(array)"
   ]
  },
  {
   "cell_type": "code",
   "execution_count": 20,
   "id": "ceda814b",
   "metadata": {},
   "outputs": [
    {
     "name": "stdout",
     "output_type": "stream",
     "text": [
      "[32, 31, 30, 29, 28, 27, 26, 25, 24]\n"
     ]
    }
   ],
   "source": [
    "''' How to delete an element '''\n",
    "del array[0]\n",
    "print(array)"
   ]
  },
  {
   "cell_type": "code",
   "execution_count": 26,
   "id": "8fe2d518",
   "metadata": {},
   "outputs": [
    {
     "name": "stdout",
     "output_type": "stream",
     "text": [
      "Before [32, 31, 30, 29, 28, 27, 26, 25, 24, 88, 88, 88, 88]\n",
      "After [32, 31, 30, 29, 28, 27, 26, 25, 24, 88, 88, 88, 88, 88]\n"
     ]
    }
   ],
   "source": [
    "''' How to add elements to an array '''\n",
    "\n",
    "print(\"Before\",array)\n",
    "array.append(88)\n",
    "print(\"After\",array)"
   ]
  },
  {
   "cell_type": "code",
   "execution_count": 35,
   "id": "429d684d",
   "metadata": {},
   "outputs": [
    {
     "name": "stdout",
     "output_type": "stream",
     "text": [
      "[0, 2, 4, 6, 8, 10, 12, 14, 16, 18, 20, 22, 24, 26, 28, 30, 32, 34, 36, 38, 40, 42, 44, 46, 48, 50, 52, 54, 56, 58, 60, 62, 64, 66, 68, 70, 72, 74, 76, 78, 80, 82, 84, 86]\n"
     ]
    }
   ],
   "source": [
    "''' Let's build a filter '''\n",
    "\n",
    "array1 = [ i for i in range(88) ]\n",
    "array1 = [ elem for elem in array1 if elem%2==0 ]\n",
    "\n",
    "print(array1)\n"
   ]
  },
  {
   "cell_type": "code",
   "execution_count": 55,
   "id": "5ee7b052",
   "metadata": {},
   "outputs": [
    {
     "name": "stdout",
     "output_type": "stream",
     "text": [
      "[1, 0, 0, 0, 1, 0, 0, 1]\n"
     ]
    }
   ],
   "source": [
    "''' While loops and conditional logic '''\n",
    "\n",
    "\n",
    "''' Base Change code '''\n",
    "num   = 137    # 2^7 + 2^3 + 2^0 = 100001001\n",
    "basis = 2\n",
    "\n",
    "\n",
    "temp  = num\n",
    "array = []\n",
    "while temp > 0:\n",
    "    array = [temp%basis] + array\n",
    "    temp  = temp - temp%basis\n",
    "    temp  = int(temp/basis)\n",
    "    \n",
    "print(array)\n",
    "    "
   ]
  },
  {
   "cell_type": "code",
   "execution_count": 40,
   "id": "19795934",
   "metadata": {},
   "outputs": [
    {
     "name": "stdout",
     "output_type": "stream",
     "text": [
      "[1, 2, 3, 4]\n"
     ]
    }
   ],
   "source": [
    "''' Appending like sum '''\n",
    "a = [ 1,2,3 ]\n",
    "b = [4]\n",
    "\n",
    "print(a+b)"
   ]
  },
  {
   "cell_type": "code",
   "execution_count": 41,
   "id": "b89e97b9",
   "metadata": {},
   "outputs": [
    {
     "name": "stdout",
     "output_type": "stream",
     "text": [
      "[4, 1, 2, 3]\n"
     ]
    }
   ],
   "source": [
    "''' Prepending like sum '''\n",
    "a = [ 1,2,3 ]\n",
    "b = [4]\n",
    "\n",
    "print(b+a)"
   ]
  },
  {
   "cell_type": "code",
   "execution_count": 43,
   "id": "de5ab17c",
   "metadata": {},
   "outputs": [
    {
     "data": {
      "text/plain": [
       "[0, 1]"
      ]
     },
     "execution_count": 43,
     "metadata": {},
     "output_type": "execute_result"
    }
   ],
   "source": [
    "[0]+[1]+[]"
   ]
  },
  {
   "cell_type": "code",
   "execution_count": 60,
   "id": "166c7ab3",
   "metadata": {},
   "outputs": [
    {
     "name": "stdout",
     "output_type": "stream",
     "text": [
      "310\n",
      "155.0\n",
      "466.0\n",
      "233.0\n",
      "700.0\n",
      "350.0\n",
      "175.0\n",
      "526.0\n",
      "263.0\n",
      "790.0\n",
      "395.0\n",
      "1186.0\n",
      "593.0\n",
      "1780.0\n",
      "890.0\n",
      "445.0\n",
      "1336.0\n",
      "668.0\n",
      "334.0\n",
      "167.0\n",
      "502.0\n",
      "251.0\n",
      "754.0\n",
      "377.0\n",
      "1132.0\n",
      "566.0\n",
      "283.0\n",
      "850.0\n",
      "425.0\n",
      "1276.0\n",
      "638.0\n",
      "319.0\n",
      "958.0\n",
      "479.0\n",
      "1438.0\n",
      "719.0\n",
      "2158.0\n",
      "1079.0\n",
      "3238.0\n",
      "1619.0\n",
      "4858.0\n",
      "2429.0\n",
      "7288.0\n",
      "3644.0\n",
      "1822.0\n",
      "911.0\n",
      "2734.0\n",
      "1367.0\n",
      "4102.0\n",
      "2051.0\n",
      "6154.0\n",
      "3077.0\n",
      "9232.0\n",
      "4616.0\n",
      "2308.0\n",
      "1154.0\n",
      "577.0\n",
      "1732.0\n",
      "866.0\n",
      "433.0\n",
      "1300.0\n",
      "650.0\n",
      "325.0\n",
      "976.0\n",
      "488.0\n",
      "244.0\n",
      "122.0\n",
      "61.0\n",
      "184.0\n",
      "92.0\n",
      "46.0\n",
      "23.0\n",
      "70.0\n",
      "35.0\n",
      "106.0\n",
      "53.0\n",
      "160.0\n",
      "80.0\n",
      "40.0\n",
      "20.0\n",
      "10.0\n",
      "5.0\n",
      "16.0\n",
      "8.0\n",
      "4.0\n",
      "2.0\n"
     ]
    }
   ],
   "source": [
    "''' while loop examples '''\n",
    "\n",
    "# if the number is even then we divide by two \n",
    "# if the number is odd we multiply by 3 and add 1\n",
    "# repeat...\n",
    "\n",
    "num = 103\n",
    "\n",
    "while num != 2:\n",
    "    num = num/2 if num%2==0 else 3*num+1\n",
    "    print(num)\n",
    "    "
   ]
  },
  {
   "cell_type": "code",
   "execution_count": 62,
   "id": "819d7786",
   "metadata": {},
   "outputs": [
    {
     "data": {
      "text/plain": [
       "'\\n\\narray = [ 12,34,56 ]\\n\\nif 12<34:\\n    new_array = [ 12,56 ]\\n    return smallest([12,56]):\\n                \\n                array = [12,56]\\n                if 12<56:\\n                    new_array = [12]\\n                    return smallest([12]) = 12 # edge case\\n\\n'"
      ]
     },
     "execution_count": 62,
     "metadata": {},
     "output_type": "execute_result"
    }
   ],
   "source": [
    "''' Conditional logic & \n",
    "\n",
    "    Recursion: Tool for defining functions which call themsleves\n",
    "\n",
    "'''\n",
    "\n",
    "array = [ 12,34,56 ]\n",
    "\n",
    "''' Function to find smallest of the three numbers '''\n",
    "def smallest(array):\n",
    "    ''' Always assume the function does its jobs '''\n",
    "    if len(array) == 1:\n",
    "        return array[0]\n",
    "    \n",
    "    ''' Notice if array[0]<=array[1] then the only '''\n",
    "    if array[0] <= array[1]:\n",
    "        new_array = [ array[i] for i in range(len(array)) if i!=1 ]\n",
    "        return smallest( new_array )\n",
    "    else:\n",
    "        new_array = [ array[i] for i in range(len(array)) if i!=0 ]\n",
    "        return smallest( new_array )\n",
    "    \n",
    "    \n",
    "'''\n",
    "\n",
    "array = [ 12,34,56 ]\n",
    "\n",
    "if 12<34:\n",
    "    new_array = [ 12,56 ]\n",
    "    return smallest([12,56]):\n",
    "                \n",
    "                array = [12,56]\n",
    "                if 12<56:\n",
    "                    new_array = [12]\n",
    "                    return smallest([12]) = 12 # edge case\n",
    "\n",
    "'''\n",
    "\n"
   ]
  },
  {
   "cell_type": "code",
   "execution_count": 64,
   "id": "cd68c6d8",
   "metadata": {},
   "outputs": [
    {
     "name": "stdout",
     "output_type": "stream",
     "text": [
      "-34\n"
     ]
    }
   ],
   "source": [
    "print(smallest([ 1,4,5,2,-34,5,6,3,2,1,-4 ]))"
   ]
  },
  {
   "cell_type": "code",
   "execution_count": null,
   "id": "11ccf83f",
   "metadata": {},
   "outputs": [],
   "source": []
  }
 ],
 "metadata": {
  "kernelspec": {
   "display_name": "Python 3 (ipykernel)",
   "language": "python",
   "name": "python3"
  },
  "language_info": {
   "codemirror_mode": {
    "name": "ipython",
    "version": 3
   },
   "file_extension": ".py",
   "mimetype": "text/x-python",
   "name": "python",
   "nbconvert_exporter": "python",
   "pygments_lexer": "ipython3",
   "version": "3.9.12"
  }
 },
 "nbformat": 4,
 "nbformat_minor": 5
}
