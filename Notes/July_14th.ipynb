{
 "cells": [
  {
   "cell_type": "code",
   "execution_count": 1,
   "id": "5627e204",
   "metadata": {},
   "outputs": [],
   "source": [
    "import math"
   ]
  },
  {
   "cell_type": "code",
   "execution_count": 4,
   "id": "e2927e7b",
   "metadata": {},
   "outputs": [],
   "source": [
    "array = [ i for i in range(2,20) ]"
   ]
  },
  {
   "cell_type": "code",
   "execution_count": 18,
   "id": "55462769",
   "metadata": {},
   "outputs": [],
   "source": [
    "def funprimes(array):\n",
    "    primes = [2]\n",
    "    for elem in array:\n",
    "        #print(\"For #\",elem)\n",
    "        ''' Check all numbers between 2 and elem '''\n",
    "        for small in range(2,elem):\n",
    "            ''' If any smaller number divides it then it cannot be prime '''\n",
    "            if elem%small == 0:\n",
    "                ''' We break to avoid double checking '''\n",
    "                #print(\"Not prime\")\n",
    "                break\n",
    "        \n",
    "            '''\n",
    "                There are two ways to make it here:\n",
    "                1) You checked all numbers smaller than elem and none divided it\n",
    "                    last value for small is the last value of the smaller \"for\" loop\n",
    "                2) You hit the \"break\" inside the smaller loop\n",
    "                   last value of small is the smallest divisor of elem\n",
    "        \n",
    "            '''\n",
    "            if small == elem-1:\n",
    "                primes.append(elem)\n",
    "    return primes"
   ]
  },
  {
   "cell_type": "code",
   "execution_count": 19,
   "id": "2129bfb3",
   "metadata": {},
   "outputs": [
    {
     "name": "stdout",
     "output_type": "stream",
     "text": [
      "1.59 ms ± 137 µs per loop (mean ± std. dev. of 7 runs, 1,000 loops each)\n"
     ]
    }
   ],
   "source": [
    "%%timeit\n",
    "funprimes([ i for i in range(300) ])"
   ]
  },
  {
   "cell_type": "code",
   "execution_count": 38,
   "id": "31006bdf",
   "metadata": {},
   "outputs": [],
   "source": [
    "def funprimes2(array):\n",
    "    primes = [2]\n",
    "    for elem in array:\n",
    "        #print(\"For #\",elem)\n",
    "        ''' Check all numbers between 2 and elem '''\n",
    "        for small in primes:\n",
    "            #print(\"Checking\",small)\n",
    "            ''' If any smaller number divides it then it cannot be prime '''\n",
    "            if elem%small == 0:\n",
    "                ''' We break to avoid double checking '''\n",
    "                #print(\"Not prime\")\n",
    "                break\n",
    "        \n",
    "            '''\n",
    "                There are two ways to make it here:\n",
    "                1) You checked all numbers smaller than elem and none divided it\n",
    "                    last value for small is the last value of the smaller \"for\" loop\n",
    "                2) You hit the \"break\" inside the smaller loop\n",
    "                   last value of small is the smallest divisor of elem\n",
    "        \n",
    "            '''\n",
    "            if small == primes[-1]:\n",
    "                primes.append(elem)\n",
    "    return primes"
   ]
  },
  {
   "cell_type": "code",
   "execution_count": 46,
   "id": "a4059d0e",
   "metadata": {},
   "outputs": [
    {
     "data": {
      "text/plain": [
       "True"
      ]
     },
     "execution_count": 46,
     "metadata": {},
     "output_type": "execute_result"
    }
   ],
   "source": [
    "primes[-4] == primes[4]"
   ]
  },
  {
   "cell_type": "code",
   "execution_count": 47,
   "id": "aea2b9a8",
   "metadata": {},
   "outputs": [
    {
     "data": {
      "text/plain": [
       "' Recursive Functions '"
      ]
     },
     "execution_count": 47,
     "metadata": {},
     "output_type": "execute_result"
    }
   ],
   "source": [
    "''' Recursive Functions '''"
   ]
  },
  {
   "cell_type": "code",
   "execution_count": 54,
   "id": "9e52e1f8",
   "metadata": {},
   "outputs": [],
   "source": [
    "def recurse_coz(num,carryover):\n",
    "    ''' \n",
    "        Split the problem into a simpler one (closer to the answer)\n",
    "        and something that you can directly solve.\n",
    "        \n",
    "        Deal with edge cases, deal with the possibilities that do not follow the main\n",
    "        assumptions\n",
    "        \n",
    "        Assumption: The number is not already 2\n",
    "        Edge Case : The number is two\n",
    "        \n",
    "    '''\n",
    "    \n",
    "    if num == 2:\n",
    "        return carryover + [num]\n",
    "    else:\n",
    "        new_carryover = carryover + [num]\n",
    "        if num % 2 == 0:\n",
    "            return recurse_coz( int(num/2)  , new_carryover )\n",
    "        else:\n",
    "            return recurse_coz( 3*num+1, new_carryover )"
   ]
  },
  {
   "cell_type": "code",
   "execution_count": 57,
   "id": "1e18c842",
   "metadata": {},
   "outputs": [
    {
     "name": "stdout",
     "output_type": "stream",
     "text": [
      "[570, 285, 856, 428, 214, 107, 322, 161, 484, 242, 121, 364, 182, 91, 274, 137, 412, 206, 103, 310, 155, 466, 233, 700, 350, 175, 526, 263, 790, 395, 1186, 593, 1780, 890, 445, 1336, 668, 334, 167, 502, 251, 754, 377, 1132, 566, 283, 850, 425, 1276, 638, 319, 958, 479, 1438, 719, 2158, 1079, 3238, 1619, 4858, 2429, 7288, 3644, 1822, 911, 2734, 1367, 4102, 2051, 6154, 3077, 9232, 4616, 2308, 1154, 577, 1732, 866, 433, 1300, 650, 325, 976, 488, 244, 122, 61, 184, 92, 46, 23, 70, 35, 106, 53, 160, 80, 40, 20, 10, 5, 16, 8, 4, 2]\n"
     ]
    }
   ],
   "source": [
    "print(recurse_coz(570,[]))"
   ]
  },
  {
   "cell_type": "code",
   "execution_count": null,
   "id": "ea70a4e2",
   "metadata": {},
   "outputs": [],
   "source": []
  }
 ],
 "metadata": {
  "kernelspec": {
   "display_name": "Python 3 (ipykernel)",
   "language": "python",
   "name": "python3"
  },
  "language_info": {
   "codemirror_mode": {
    "name": "ipython",
    "version": 3
   },
   "file_extension": ".py",
   "mimetype": "text/x-python",
   "name": "python",
   "nbconvert_exporter": "python",
   "pygments_lexer": "ipython3",
   "version": "3.9.12"
  }
 },
 "nbformat": 4,
 "nbformat_minor": 5
}
