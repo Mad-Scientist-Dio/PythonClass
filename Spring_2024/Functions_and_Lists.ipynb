{
 "cells": [
  {
   "cell_type": "markdown",
   "id": "71240c9d",
   "metadata": {},
   "source": [
    "# Functions & Lists"
   ]
  },
  {
   "cell_type": "markdown",
   "id": "40271742",
   "metadata": {},
   "source": [
    "### Reading assignment\n",
    "\n",
    "In the following you need to add comments to every line in the code, the comment should say in a few words what the line below it is doing. \n",
    "\n",
    "For example:"
   ]
  },
  {
   "cell_type": "code",
   "execution_count": 1,
   "id": "3f35d26a",
   "metadata": {},
   "outputs": [],
   "source": [
    "''' Function to show all elements in a list '''\n",
    "def show_all(lis):\n",
    "    ''' Loop over all elements in list '''\n",
    "    for elem in lis:\n",
    "        ''' Print the element '''\n",
    "        print(elem)"
   ]
  },
  {
   "cell_type": "markdown",
   "id": "bf5491d7",
   "metadata": {},
   "source": [
    "Add comments to the following functions, if you have doubts you can execute the function. In all cases, lis needs to be a list."
   ]
  },
  {
   "cell_type": "code",
   "execution_count": null,
   "id": "fb6bc268",
   "metadata": {},
   "outputs": [],
   "source": [
    "'''  '''\n",
    "def reverse(lis):\n",
    "    '''  '''\n",
    "    rev = []\n",
    "    ''' Loop over all indices smaller than the length of the list '''\n",
    "    for i in range(len(lis)):\n",
    "        '''  '''\n",
    "        rev.append(len(lis)-i)\n",
    "    '''  '''\n",
    "    return rev"
   ]
  },
  {
   "cell_type": "code",
   "execution_count": null,
   "id": "6fa39fda",
   "metadata": {},
   "outputs": [],
   "source": [
    "'''  '''\n",
    "def filter_evens(lis):\n",
    "    '''  '''\n",
    "    evens = []\n",
    "    '''  '''\n",
    "    for elem in lis:\n",
    "        '''  '''\n",
    "        if elem % 2 == 0:\n",
    "            '''  '''\n",
    "            evens.append(elem)\n",
    "    '''  '''\n",
    "    return evens"
   ]
  },
  {
   "cell_type": "code",
   "execution_count": null,
   "id": "e1e050dc",
   "metadata": {},
   "outputs": [],
   "source": [
    "'''  '''\n",
    "def get_parts(lis,accum=[]):\n",
    "    '''  '''\n",
    "    if len(lis)==0:\n",
    "        '''  '''\n",
    "        return accum\n",
    "    '''  '''\n",
    "    sub_parts = get_parts(lis[1:],[]\n",
    "    '''  '''\n",
    "    "
   ]
  },
  {
   "cell_type": "markdown",
   "id": "aa6f1116",
   "metadata": {},
   "source": [
    "Based on the comments, complete the following code"
   ]
  },
  {
   "cell_type": "code",
   "execution_count": null,
   "id": "2c1af3f6",
   "metadata": {},
   "outputs": [],
   "source": [
    "''' Function to show all even elements in a list '''\n",
    "def show_even(lis):\n",
    "    ''' Loop over the elements of the list '''\n",
    "    for:\n",
    "        ''' Check if the element is even '''\n",
    "        if:\n",
    "            ''' Print the element '''\n",
    "            "
   ]
  },
  {
   "cell_type": "code",
   "execution_count": null,
   "id": "e42559ac",
   "metadata": {},
   "outputs": [],
   "source": [
    "''' Function filter out the odd elements of a list '''\n",
    "def filter_odds(lis):\n",
    "    ''' Initialize the list to store odds '''\n",
    "    odds\n",
    "    ''' Loop over all elements '''\n",
    "    for:\n",
    "        ''' Check if it is odd '''\n",
    "        if:\n",
    "            ''' Add it to the list  '''\n",
    "            \n",
    "    ''' Return the list containing odds '''\n",
    "    "
   ]
  }
 ],
 "metadata": {
  "kernelspec": {
   "display_name": "Python 3 (ipykernel)",
   "language": "python",
   "name": "python3"
  },
  "language_info": {
   "codemirror_mode": {
    "name": "ipython",
    "version": 3
   },
   "file_extension": ".py",
   "mimetype": "text/x-python",
   "name": "python",
   "nbconvert_exporter": "python",
   "pygments_lexer": "ipython3",
   "version": "3.9.12"
  }
 },
 "nbformat": 4,
 "nbformat_minor": 5
}
