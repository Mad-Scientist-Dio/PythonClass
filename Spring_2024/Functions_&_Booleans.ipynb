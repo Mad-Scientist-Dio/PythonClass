{
 "cells": [
  {
   "cell_type": "markdown",
   "id": "9b94aac6-f15b-4baa-968c-07f6cf855549",
   "metadata": {},
   "source": [
    "# Functions & Booleans\n",
    "\n",
    "Last week we discussed the \"def\" keyword that allowed us to define functions, these functions had a broader scope than those defined using the \"lambda\" keyweord. One of the main differences is that functions defined via the use of \"def\" need not return any value, this is in sharp contrast with those defined using the \"lambda\" keyword which always need to return a value.\n",
    "\n",
    "\n",
    "## Exercise 1\n",
    "\n",
    "### Write as a comment the what each of the following functions do\n",
    "\n",
    "1)"
   ]
  },
  {
   "cell_type": "code",
   "execution_count": 1,
   "id": "a686275b-b86c-4123-9078-397e337671d3",
   "metadata": {},
   "outputs": [],
   "source": [
    "def some_arbitrary_name(first_argument,second_argument):\n",
    "\n",
    "    if first_argument > second_argument:\n",
    "        return first_argument\n",
    "    elif second_argument < 2*first_argument:\n",
    "        return first_argument-second_argument\n",
    "    else:\n",
    "        return second_argument"
   ]
  },
  {
   "cell_type": "markdown",
   "id": "4b34975b-84a1-4fd1-b439-c7e4d83eed7a",
   "metadata": {},
   "source": [
    "2)"
   ]
  },
  {
   "cell_type": "code",
   "execution_count": 2,
   "id": "8d8d5e27-371e-4434-af5b-2f62a9afbcc9",
   "metadata": {},
   "outputs": [],
   "source": [
    "def your_favorite_name(third_argument,first_argument,second_argument):\n",
    "    if first_argument > second_argument:\n",
    "        return third_argument\n",
    "    elif first_argument > third_argument:\n",
    "        return second_argument\n",
    "    else:\n",
    "        return first_argument"
   ]
  },
  {
   "cell_type": "markdown",
   "id": "23de049f-6d24-43f0-a620-82ee80d8e22e",
   "metadata": {},
   "source": [
    "3)"
   ]
  },
  {
   "cell_type": "code",
   "execution_count": 3,
   "id": "4b8b01df-4ed3-4894-86ea-d2cdef58c47c",
   "metadata": {},
   "outputs": [],
   "source": [
    "square_root = lambda x : x**2\n",
    "\n",
    "def cube_root(x):\n",
    "    y = square_root(x+1)+1\n",
    "    return 1/y"
   ]
  },
  {
   "cell_type": "markdown",
   "id": "676535d5-f3af-49d9-bb37-5f43d74ba586",
   "metadata": {},
   "source": [
    "## Boolean variables\n",
    "\n",
    "Boolean variables are variables that can only have one of two values \"True\" or \"False\", they can be used in conjunction with the language keywords \"and\", \"or\", and \"not\". \n",
    "\n",
    "Technically speaking when we write \"(first_argument > second_argument)\" anywhere in the code what python does is:\n",
    "\n",
    "<ol>\n",
    "    <li>It Looks up the assigned values for each of these variables.</li>\n",
    "    <li>It then checks that the values are comparable, think of two lists, there is no way to compare two lists in general.</li>\n",
    "    <li>If comparable python makes the comparisson and assigns \"(first_argument > second_argument)\"->\"True\" if the variable \"first_argument\" is larger than the second, in the opposite case it assigns to it the value \"False\"</li>\n",
    "</ol>\n",
    "\n",
    "### Operators on Boolean variables\n",
    "\n",
    "The operator \"and\" can be thought of as a function that takes two boolean variables and it returns \"True\" if both the boolean variables are \"True\" themselves. This makes it so that the value of expressions like:\n"
   ]
  },
  {
   "cell_type": "code",
   "execution_count": 4,
   "id": "7602c496-6ded-4d02-88d3-50a1f00d1c61",
   "metadata": {},
   "outputs": [],
   "source": [
    "my_boolean = (4>3) and (12>10)"
   ]
  },
  {
   "cell_type": "markdown",
   "id": "3761a00f-e54e-4673-a496-2eecfd75d4e5",
   "metadata": {},
   "source": [
    "can be infered directly from language. In this case the variable \"my_boolean\" holds the value \"True\" because both \"4>3\" and \"12>10\" are true expressions.\n",
    "\n",
    "Similarly the keyword \"or\" can be thought of as a function that takes two boolean variables and it returns \"True\" if either one of the two boolean variables is \"True\". This makes it so that the value of expressions like:"
   ]
  },
  {
   "cell_type": "code",
   "execution_count": 5,
   "id": "2db16028-79bd-4ae7-9798-39fc74f34425",
   "metadata": {},
   "outputs": [],
   "source": [
    "my_other_boolean = (34<0) or (55>1)"
   ]
  },
  {
   "cell_type": "markdown",
   "id": "5c75f655-298f-4946-931d-dfcbde41e215",
   "metadata": {},
   "source": [
    "can, again, be infered directly from language. In this case the variable \"my_other_boolean\" holds the value \"True\" because although \"34<0\" is false the expression \"55>1\" is true."
   ]
  },
  {
   "cell_type": "markdown",
   "id": "8d14fd92-1e77-4090-a6dc-b63fd6c8e533",
   "metadata": {},
   "source": [
    "## Exercise 2\n",
    "\n",
    "Determine whether the following are \"True\" or \"False\", then use python to evaluate them and check your answers."
   ]
  },
  {
   "cell_type": "code",
   "execution_count": 6,
   "id": "216ff25b-825a-4fec-9f9b-69e9fd6b0aa8",
   "metadata": {},
   "outputs": [],
   "source": [
    "a = 11\n",
    "b = -7\n",
    "c = 2\n",
    "d = 3\n",
    "e = -5\n",
    "f = 0"
   ]
  },
  {
   "cell_type": "code",
   "execution_count": 7,
   "id": "7a346cff-f8fa-45d8-adab-95e6ff971e78",
   "metadata": {},
   "outputs": [],
   "source": [
    "ex2_boolean_1 = (3*a) > (d*a)\n",
    "\n",
    "ex2_boolean_2 = (b*a-3) < (2*d**2 - e)\n",
    "\n",
    "ex2_boolean_3 = (a*b*c) > (b*c*d)\n",
    "\n",
    "ex2_boolean_4 = (f**2 + a) < (2*f*d*e*a - b)"
   ]
  }
 ],
 "metadata": {
  "kernelspec": {
   "display_name": "Python 3 (ipykernel)",
   "language": "python",
   "name": "python3"
  },
  "language_info": {
   "codemirror_mode": {
    "name": "ipython",
    "version": 3
   },
   "file_extension": ".py",
   "mimetype": "text/x-python",
   "name": "python",
   "nbconvert_exporter": "python",
   "pygments_lexer": "ipython3",
   "version": "3.11.5"
  }
 },
 "nbformat": 4,
 "nbformat_minor": 5
}
