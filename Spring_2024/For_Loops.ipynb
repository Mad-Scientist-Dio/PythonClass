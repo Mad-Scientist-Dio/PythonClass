{
 "cells": [
  {
   "cell_type": "markdown",
   "id": "dfa87c45-fe43-40d1-9322-eaa79257abcc",
   "metadata": {},
   "source": [
    "# For Loops and arrays\n",
    "\n",
    "Last time we started discussing python arrays, these arrays are very useful for storing data of all sorts.\n",
    "\n",
    "We can declare an array by placing the data between [] and separating it using commas:"
   ]
  },
  {
   "cell_type": "code",
   "execution_count": 1,
   "id": "da9ec197-b30a-412f-964a-73027f31ef71",
   "metadata": {},
   "outputs": [],
   "source": [
    "my_array_1 = [1,2,3]\n",
    "\n",
    "my_array_2 = [\"a\",\"b\",\"c\"]\n",
    "\n",
    "my_array_3 = [1,\"a\",2,\"b\",3,\"c\"]"
   ]
  },
  {
   "cell_type": "markdown",
   "id": "19068f84-9c22-42f4-8d97-9eda2e91efca",
   "metadata": {},
   "source": [
    "As you can see the things stored inside the arrays can all be of different kinds.\n",
    "\n",
    "If we want to access the data inside of an array we can do so by using the [] in the following way:"
   ]
  },
  {
   "cell_type": "code",
   "execution_count": 2,
   "id": "c35fd7e5-a327-4168-b78e-c74ba5efce27",
   "metadata": {},
   "outputs": [
    {
     "name": "stdout",
     "output_type": "stream",
     "text": [
      "1\n"
     ]
    },
    {
     "data": {
      "text/plain": [
       "'c'"
      ]
     },
     "execution_count": 2,
     "metadata": {},
     "output_type": "execute_result"
    }
   ],
   "source": [
    "''' First element of my_array_1 '''\n",
    "print(my_array_1[0])\n",
    "\n",
    "''' Last element of my_array_2 '''\n",
    "my_array_2[-1]"
   ]
  },
  {
   "cell_type": "markdown",
   "id": "8ed5d2ce-626c-406d-aadf-7c8c5c6a5493",
   "metadata": {},
   "source": [
    "We can modify the contents of an array by simply assigning a new value directly to the element, again using []:"
   ]
  },
  {
   "cell_type": "code",
   "execution_count": 3,
   "id": "a92db497-ebd6-4767-ba52-2b0321bff24f",
   "metadata": {},
   "outputs": [
    {
     "name": "stdout",
     "output_type": "stream",
     "text": [
      "[1, 'Hello', 2, 'b', 3, 'c']\n"
     ]
    }
   ],
   "source": [
    "''' Modify the second element of my_array_3 '''\n",
    "my_array_3[1] = \"Hello\"\n",
    "print(my_array_3)"
   ]
  },
  {
   "cell_type": "markdown",
   "id": "126978a2-5fc4-4416-b3b9-a444ef167747",
   "metadata": {},
   "source": [
    "We can also modify the length of the array, we can make it loger by appending (adding at the end) a value:"
   ]
  },
  {
   "cell_type": "code",
   "execution_count": 4,
   "id": "adae4432-e1b5-4646-b0e4-f85e0094cc2e",
   "metadata": {},
   "outputs": [
    {
     "name": "stdout",
     "output_type": "stream",
     "text": [
      "[1, 2, 3, 5]\n"
     ]
    }
   ],
   "source": [
    "''' Add a new entry to my_array_1 '''\n",
    "my_array_1.append(5)\n",
    "print(my_array_1)"
   ]
  },
  {
   "cell_type": "markdown",
   "id": "082c7172-6c52-4a22-9dbe-ec041b0b5276",
   "metadata": {},
   "source": [
    "We can also delete an entry by using the keyword \"del\":"
   ]
  },
  {
   "cell_type": "code",
   "execution_count": 5,
   "id": "37170260-8972-4db8-be7d-09bd3a2d0617",
   "metadata": {},
   "outputs": [
    {
     "name": "stdout",
     "output_type": "stream",
     "text": [
      "['a', 'c']\n"
     ]
    }
   ],
   "source": [
    "''' Delete the second entry of my_array_2 '''\n",
    "del my_array_2[1]\n",
    "print(my_array_2)"
   ]
  },
  {
   "cell_type": "markdown",
   "id": "b1699807-844a-449b-8631-e4fdd3f4f68b",
   "metadata": {},
   "source": [
    "For loops are very useful if we wish to perform an operation on all the entries of an array:"
   ]
  },
  {
   "cell_type": "code",
   "execution_count": 6,
   "id": "ea3077dc-0217-4a7b-ae26-30defa2e66fa",
   "metadata": {},
   "outputs": [
    {
     "name": "stdout",
     "output_type": "stream",
     "text": [
      "[2, 3, 4, 6]\n"
     ]
    }
   ],
   "source": [
    "''' Add one to all elements of my_array_1 '''\n",
    "for i in range(len(my_array_1)):\n",
    "    my_array_1[i] = my_array_1[i] + 1\n",
    "print(my_array_1)"
   ]
  },
  {
   "cell_type": "markdown",
   "id": "b2c17c7f-0564-4791-bd03-a13ddaaef5d2",
   "metadata": {},
   "source": [
    "We can mix for loops with if statements to make pretty complicated rules, for instance let's double all the values in my_array_1 that are odd:"
   ]
  },
  {
   "cell_type": "code",
   "execution_count": 7,
   "id": "cf818b07-603c-4e77-9de0-c5260f8f0e65",
   "metadata": {},
   "outputs": [
    {
     "name": "stdout",
     "output_type": "stream",
     "text": [
      "[2, 9, 4, 6]\n"
     ]
    }
   ],
   "source": [
    "''' Triple all odds inside my_array_1 '''\n",
    "for i in range(len(my_array_1)):\n",
    "    ''' \n",
    "        Recall that (number%2) returns the reminder of the \n",
    "        division of number by 2, so (3%2)=1 and (4%2)=0.\n",
    "        And in general (number%2)=0 means that number is even\n",
    "        while (number%2)=1 means that it is odd.\n",
    "    '''\n",
    "    if (my_array_1[i] % 2 == 1):\n",
    "        my_array_1[i] = 3*my_array_1[i]\n",
    "\n",
    "print(my_array_1)"
   ]
  },
  {
   "cell_type": "markdown",
   "id": "4a9c6d2c-f612-40f1-b96b-839578777ba3",
   "metadata": {},
   "source": [
    "We can also build new arrays from old ones:"
   ]
  },
  {
   "cell_type": "code",
   "execution_count": 8,
   "id": "40a2eb76-da30-4eaa-8a48-1d4bf431c0e6",
   "metadata": {},
   "outputs": [
    {
     "name": "stdout",
     "output_type": "stream",
     "text": [
      "[2, 9, 4, 6]\n",
      "[2, 4, 6]\n"
     ]
    }
   ],
   "source": [
    "new_array_1 = []\n",
    "''' Copy all elements of my_array_1 into new_array_1 '''\n",
    "for i in range(len(my_array_1)):\n",
    "    new_array_1.append(my_array_1[i])\n",
    "print(new_array_1)\n",
    "\n",
    "new_array_2 = []\n",
    "''' Copy all even element of my_array_1 into new_array_2 '''\n",
    "for i in range(len(my_array_1)):\n",
    "    if (my_array_1[i] % 2) == 0:\n",
    "        new_array_2.append(my_array_1[i])\n",
    "print(new_array_2)"
   ]
  },
  {
   "cell_type": "markdown",
   "id": "1ec5af3d-e0bb-4f75-aeab-3e44ff8245f3",
   "metadata": {},
   "source": [
    "## Exercises\n",
    "\n",
    "Consider the arrays:\n"
   ]
  },
  {
   "cell_type": "code",
   "execution_count": 10,
   "id": "a87a0a2d-7744-461c-9d31-59881d67d6c4",
   "metadata": {},
   "outputs": [],
   "source": [
    "exc_array_1 = [ i for i in range(11) ]\n",
    "\n",
    "exc_array_2 = [ 3*i+2 for i in range(7) ]\n",
    "\n",
    "exc_array_3 = [ \"a\",\"b\",\"c\",\"d\",\"e\",\"f\" ]"
   ]
  },
  {
   "cell_type": "markdown",
   "id": "f25e1c75-edab-4d6e-9e07-05067071eaa8",
   "metadata": {},
   "source": [
    "1) Programatically build a new array that has all the even numbers inside of exc_array_1\n",
    "\n",
    "2) Programatically build a new array that has all the elemts of exc_array_2 that are less than 13\n",
    "\n",
    "3) Programatically build a new array that has all consonants of exc_array_3\n",
    "\n",
    "4) Programatically build a new array that has all the elements of exc_array_1 followed by those of exc_array_2\n",
    "\n",
    "5) Delete all odd entries of exc_array_1\n",
    "\n",
    "6) Delete all even entries of exc_array_2"
   ]
  }
 ],
 "metadata": {
  "kernelspec": {
   "display_name": "Python 3 (ipykernel)",
   "language": "python",
   "name": "python3"
  },
  "language_info": {
   "codemirror_mode": {
    "name": "ipython",
    "version": 3
   },
   "file_extension": ".py",
   "mimetype": "text/x-python",
   "name": "python",
   "nbconvert_exporter": "python",
   "pygments_lexer": "ipython3",
   "version": "3.11.5"
  }
 },
 "nbformat": 4,
 "nbformat_minor": 5
}
